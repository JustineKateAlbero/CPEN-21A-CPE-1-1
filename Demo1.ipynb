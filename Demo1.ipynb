{
  "nbformat": 4,
  "nbformat_minor": 0,
  "metadata": {
    "colab": {
      "name": "Demo1",
      "provenance": [],
      "authorship_tag": "ABX9TyPfbM+k72JQ5DcOnxT61qU7",
      "include_colab_link": true
    },
    "kernelspec": {
      "name": "python3",
      "display_name": "Python 3"
    },
    "language_info": {
      "name": "python"
    }
  },
  "cells": [
    {
      "cell_type": "markdown",
      "metadata": {
        "id": "view-in-github",
        "colab_type": "text"
      },
      "source": [
        "<a href=\"https://colab.research.google.com/github/JustineKateAlbero/CPEN-21A-CPE-1-1/blob/main/Demo1.ipynb\" target=\"_parent\"><img src=\"https://colab.research.google.com/assets/colab-badge.svg\" alt=\"Open In Colab\"/></a>"
      ]
    },
    {
      "cell_type": "markdown",
      "metadata": {
        "id": "Sx45lCQmdjoj"
      },
      "source": [
        "**INTRODUCTION TO PHYTON PROGRAMMING**"
      ]
    },
    {
      "cell_type": "code",
      "metadata": {
        "colab": {
          "base_uri": "https://localhost:8080/"
        },
        "id": "EYEhhNv3ZPRM",
        "outputId": "5c0714e7-03fd-4ab8-f032-dace83c8d84f"
      },
      "source": [
        "b = \"Sally\"\n",
        "print(type(b))"
      ],
      "execution_count": null,
      "outputs": [
        {
          "output_type": "stream",
          "name": "stdout",
          "text": [
            "<class 'str'>\n"
          ]
        }
      ]
    },
    {
      "cell_type": "code",
      "metadata": {
        "colab": {
          "base_uri": "https://localhost:8080/"
        },
        "id": "K1QanDcwXL3B",
        "outputId": "c00b6dcf-e04a-4c96-f25b-8be29d6d0914"
      },
      "source": [
        "b = \"Sally\"\n",
        "print(b)"
      ],
      "execution_count": null,
      "outputs": [
        {
          "output_type": "stream",
          "name": "stdout",
          "text": [
            "Sally\n"
          ]
        }
      ]
    },
    {
      "cell_type": "code",
      "metadata": {
        "colab": {
          "base_uri": "https://localhost:8080/"
        },
        "id": "TJb7gemSYciP",
        "outputId": "c1e87ab6-6cfe-4f90-99dc-9a149fdab95d"
      },
      "source": [
        "a,b,c = 0,1,2    \n",
        "print(a)\n",
        "print(b)\n",
        "print(c)"
      ],
      "execution_count": null,
      "outputs": [
        {
          "output_type": "stream",
          "name": "stdout",
          "text": [
            "0\n",
            "1\n",
            "2\n"
          ]
        }
      ]
    },
    {
      "cell_type": "code",
      "metadata": {
        "colab": {
          "base_uri": "https://localhost:8080/"
        },
        "id": "FrPawPBpZeNE",
        "outputId": "dfdde5ca-280a-4535-c447-f127ccab95bc"
      },
      "source": [
        "a,b,c = 0,1,2           #This is a program using text function\n",
        "print(type(a))\n",
        "print(b)\n",
        "print(c)"
      ],
      "execution_count": null,
      "outputs": [
        {
          "output_type": "stream",
          "name": "stdout",
          "text": [
            "<class 'int'>\n",
            "1\n",
            "2\n"
          ]
        }
      ]
    },
    {
      "cell_type": "code",
      "metadata": {
        "colab": {
          "base_uri": "https://localhost:8080/"
        },
        "id": "k7kOj2oiZo77",
        "outputId": "579828ac-0478-4c12-e148-8e8fecf85108"
      },
      "source": [
        "a = 4.50\n",
        "print(type(a))"
      ],
      "execution_count": null,
      "outputs": [
        {
          "output_type": "stream",
          "name": "stdout",
          "text": [
            "<class 'float'>\n"
          ]
        }
      ]
    },
    {
      "cell_type": "code",
      "metadata": {
        "colab": {
          "base_uri": "https://localhost:8080/"
        },
        "id": "7iI98SWgY3Nj",
        "outputId": "3026365b-215e-4648-b5b5-f2f81867aaec"
      },
      "source": [
        "a = int(4)\n",
        "print(a)"
      ],
      "execution_count": null,
      "outputs": [
        {
          "output_type": "stream",
          "name": "stdout",
          "text": [
            "4\n"
          ]
        }
      ]
    },
    {
      "cell_type": "code",
      "metadata": {
        "colab": {
          "base_uri": "https://localhost:8080/"
        },
        "id": "0tC71eHFZKsl",
        "outputId": "f3126315-e158-471b-abe3-9da32f89f7c8"
      },
      "source": [
        "a = float(4)\n",
        "print(a)"
      ],
      "execution_count": null,
      "outputs": [
        {
          "output_type": "stream",
          "name": "stdout",
          "text": [
            "4.0\n"
          ]
        }
      ]
    },
    {
      "cell_type": "markdown",
      "metadata": {
        "id": "9dR8MWBxaOx9"
      },
      "source": [
        "####Naming Variables\n"
      ]
    },
    {
      "cell_type": "code",
      "metadata": {
        "colab": {
          "base_uri": "https://localhost:8080/"
        },
        "id": "B2iy8pQEZ7X-",
        "outputId": "474d9061-4be0-4dc3-c024-7e0100e08c3c"
      },
      "source": [
        "a = \"Johnny Johnny\"\n",
        "A = \"John\"\n",
        "print(a)\n",
        "print(A)"
      ],
      "execution_count": null,
      "outputs": [
        {
          "output_type": "stream",
          "name": "stdout",
          "text": [
            "Johnny Johnny\n",
            "John\n"
          ]
        }
      ]
    },
    {
      "cell_type": "code",
      "metadata": {
        "colab": {
          "base_uri": "https://localhost:8080/"
        },
        "id": "qPF5WhC1oVLA",
        "outputId": "15e56c2d-4db8-49d3-9856-53e741129bf8"
      },
      "source": [
        "b = \"Jisoo\"\n",
        "B = \"Kim\"\n",
        "print(b)\n",
        "print(B)"
      ],
      "execution_count": 39,
      "outputs": [
        {
          "output_type": "stream",
          "name": "stdout",
          "text": [
            "Jisoo\n",
            "Kim\n"
          ]
        }
      ]
    },
    {
      "cell_type": "markdown",
      "metadata": {
        "id": "B3919fuRbAtq"
      },
      "source": [
        "####One Value to Multiple Variables\n"
      ]
    },
    {
      "cell_type": "code",
      "metadata": {
        "colab": {
          "base_uri": "https://localhost:8080/"
        },
        "id": "KAp0bE7FbF9W",
        "outputId": "3911d2ca-4113-4810-9c55-862dd0125163"
      },
      "source": [
        "x = y = z =\"four\"\n",
        "print(x)\n",
        "print(y)\n",
        "print(z)"
      ],
      "execution_count": null,
      "outputs": [
        {
          "output_type": "stream",
          "name": "stdout",
          "text": [
            "four\n",
            "four\n",
            "four\n"
          ]
        }
      ]
    },
    {
      "cell_type": "code",
      "metadata": {
        "colab": {
          "base_uri": "https://localhost:8080/"
        },
        "id": "AqFsC3dnn8pb",
        "outputId": "1bc7bb7e-75e8-4a01-fa19-23147d0cfb9c"
      },
      "source": [
        "a = b = c =\"5\"\n",
        "print(a)\n",
        "print(b)\n",
        "print(c)"
      ],
      "execution_count": 36,
      "outputs": [
        {
          "output_type": "stream",
          "name": "stdout",
          "text": [
            "5\n",
            "5\n",
            "5\n"
          ]
        }
      ]
    },
    {
      "cell_type": "code",
      "metadata": {
        "colab": {
          "base_uri": "https://localhost:8080/"
        },
        "id": "1SE0gKWhoIIj",
        "outputId": "877e2820-0159-407a-a32e-d6f8c9dbf82a"
      },
      "source": [
        "l = i = s = a = \"Lisa Manoban\"\n",
        "print(l)\n",
        "print(i)\n",
        "print(s)\n",
        "print(a)"
      ],
      "execution_count": 38,
      "outputs": [
        {
          "output_type": "stream",
          "name": "stdout",
          "text": [
            "Lisa Manoban\n",
            "Lisa Manoban\n",
            "Lisa Manoban\n",
            "Lisa Manoban\n"
          ]
        }
      ]
    },
    {
      "cell_type": "code",
      "metadata": {
        "colab": {
          "base_uri": "https://localhost:8080/"
        },
        "id": "4yP0ENTNbfJn",
        "outputId": "b246afc3-3da5-4f53-a589-27b5447257a2"
      },
      "source": [
        "x = \"enjoying\"\n",
        "print('Phyton Programming is'+\" \"+ x)"
      ],
      "execution_count": null,
      "outputs": [
        {
          "output_type": "stream",
          "name": "stdout",
          "text": [
            "Phyton Programming is enjoying\n"
          ]
        }
      ]
    },
    {
      "cell_type": "code",
      "metadata": {
        "colab": {
          "base_uri": "https://localhost:8080/"
        },
        "id": "swVyeGhBnvA0",
        "outputId": "1ab7accd-eed1-490c-aad4-3dd409d21570"
      },
      "source": [
        "y = \"newbie\"\n",
        "print('I am still a'+\" \"+ y)"
      ],
      "execution_count": 35,
      "outputs": [
        {
          "output_type": "stream",
          "name": "stdout",
          "text": [
            "I am still a newbie\n"
          ]
        }
      ]
    },
    {
      "cell_type": "markdown",
      "metadata": {
        "id": "DNWabfyFcIoh"
      },
      "source": [
        "####Logical Operators\n"
      ]
    },
    {
      "cell_type": "code",
      "metadata": {
        "colab": {
          "base_uri": "https://localhost:8080/"
        },
        "id": "tLCo8Q_ucNyH",
        "outputId": "71460ed5-66b4-4906-bf7c-fe7b9eb2b6c8"
      },
      "source": [
        "x = 4             #This is a program using logical operators\n",
        "y = 5\n",
        "print(x+y)\n",
        "print(x-y)\n",
        "print(x*y)\n",
        "print(x/y)"
      ],
      "execution_count": 33,
      "outputs": [
        {
          "output_type": "stream",
          "name": "stdout",
          "text": [
            "9\n",
            "-1\n",
            "20\n",
            "0.8\n"
          ]
        }
      ]
    },
    {
      "cell_type": "code",
      "metadata": {
        "colab": {
          "base_uri": "https://localhost:8080/"
        },
        "id": "EdQag3DrcmVO",
        "outputId": "4c311cad-0aa9-4e06-c2cb-b82d3aa1b2a1"
      },
      "source": [
        "print(x)"
      ],
      "execution_count": null,
      "outputs": [
        {
          "output_type": "stream",
          "name": "stdout",
          "text": [
            "4\n"
          ]
        }
      ]
    },
    {
      "cell_type": "code",
      "metadata": {
        "colab": {
          "base_uri": "https://localhost:8080/"
        },
        "id": "09QwdqAocpkN",
        "outputId": "1d472dc3-54b9-437e-c90a-9b231242cfde"
      },
      "source": [
        "x<y and x == x"
      ],
      "execution_count": null,
      "outputs": [
        {
          "output_type": "execute_result",
          "data": {
            "text/plain": [
              "True"
            ]
          },
          "metadata": {},
          "execution_count": 29
        }
      ]
    },
    {
      "cell_type": "code",
      "metadata": {
        "colab": {
          "base_uri": "https://localhost:8080/"
        },
        "id": "hywrpkhydBDO",
        "outputId": "8a07795b-15f0-4536-ce9e-74105af7b92f"
      },
      "source": [
        "not(x<y and x==x)"
      ],
      "execution_count": null,
      "outputs": [
        {
          "output_type": "execute_result",
          "data": {
            "text/plain": [
              "False"
            ]
          },
          "metadata": {},
          "execution_count": 30
        }
      ]
    },
    {
      "cell_type": "code",
      "metadata": {
        "colab": {
          "base_uri": "https://localhost:8080/"
        },
        "id": "0AkmHpJsdMk1",
        "outputId": "3886559a-1c91-4446-e667-2412cd4abf52"
      },
      "source": [
        "x>y and x==x"
      ],
      "execution_count": null,
      "outputs": [
        {
          "output_type": "execute_result",
          "data": {
            "text/plain": [
              "False"
            ]
          },
          "metadata": {},
          "execution_count": 31
        }
      ]
    },
    {
      "cell_type": "code",
      "metadata": {
        "colab": {
          "base_uri": "https://localhost:8080/"
        },
        "id": "sZUsH4JQdP3t",
        "outputId": "061bb47a-4d19-4082-8f06-0e436726faec"
      },
      "source": [
        "not(x>y and x==x)"
      ],
      "execution_count": null,
      "outputs": [
        {
          "output_type": "execute_result",
          "data": {
            "text/plain": [
              "True"
            ]
          },
          "metadata": {},
          "execution_count": 32
        }
      ]
    }
  ]
}