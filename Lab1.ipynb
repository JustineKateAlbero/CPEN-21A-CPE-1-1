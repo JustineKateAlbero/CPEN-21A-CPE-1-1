{
  "nbformat": 4,
  "nbformat_minor": 0,
  "metadata": {
    "colab": {
      "name": "Lab1.ipynb",
      "provenance": [],
      "authorship_tag": "ABX9TyMbdRl/zC5kt274aWTsi7Ra",
      "include_colab_link": true
    },
    "kernelspec": {
      "name": "python3",
      "display_name": "Python 3"
    },
    "language_info": {
      "name": "python"
    }
  },
  "cells": [
    {
      "cell_type": "markdown",
      "metadata": {
        "id": "view-in-github",
        "colab_type": "text"
      },
      "source": [
        "<a href=\"https://colab.research.google.com/github/JustineKateAlbero/CPEN-21A-CPE-1-1/blob/main/Lab1.ipynb\" target=\"_parent\"><img src=\"https://colab.research.google.com/assets/colab-badge.svg\" alt=\"Open In Colab\"/></a>"
      ]
    },
    {
      "cell_type": "markdown",
      "metadata": {
        "id": "huEjXk8sahBy"
      },
      "source": [
        "Laboratory 1"
      ]
    },
    {
      "cell_type": "code",
      "metadata": {
        "colab": {
          "base_uri": "https://localhost:8080/"
        },
        "id": "tO9q4W34VN33",
        "outputId": "4ab5c156-1a32-43fe-aa2f-1aaaceee7c5d"
      },
      "source": [
        "print(\"Welcome to Python Programming\")"
      ],
      "execution_count": null,
      "outputs": [
        {
          "output_type": "stream",
          "name": "stdout",
          "text": [
            "Welcome to Phyton Programming\n"
          ]
        }
      ]
    },
    {
      "cell_type": "code",
      "metadata": {
        "colab": {
          "base_uri": "https://localhost:8080/"
        },
        "id": "FJnbx6SWZUD3",
        "outputId": "e372b97d-ff51-4ecc-88f6-e5fe0ffd34a0"
      },
      "source": [
        "name = \"Justine Kate Palen Albero\"\n",
        "address = \"B144 L17 Sunshine Ville, Brgy. Cabuco, Trece Martires City, Cavite\"\n",
        "age = \"19 years old\"\n",
        "print('Name:'+\" \"+ name)\n",
        "print('Address:'+\" \"+ address)\n",
        "print('Age:'+\" \"+ age)"
      ],
      "execution_count": null,
      "outputs": [
        {
          "output_type": "stream",
          "name": "stdout",
          "text": [
            "Name: Justine Kate Palen Albero\n",
            "Address: B144 L17 Sunshine Ville, Brgy. Cabuco, Trece Martires City, Cavite\n",
            "Age: 19 years old\n"
          ]
        }
      ]
    }
  ]
}