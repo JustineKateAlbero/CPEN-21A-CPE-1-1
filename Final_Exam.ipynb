{
  "nbformat": 4,
  "nbformat_minor": 0,
  "metadata": {
    "colab": {
      "name": "Final Exam",
      "provenance": [],
      "authorship_tag": "ABX9TyNRMsoZJQT/k8yXRO3z92Mu",
      "include_colab_link": true
    },
    "kernelspec": {
      "name": "python3",
      "display_name": "Python 3"
    },
    "language_info": {
      "name": "python"
    }
  },
  "cells": [
    {
      "cell_type": "markdown",
      "metadata": {
        "id": "view-in-github",
        "colab_type": "text"
      },
      "source": [
        "<a href=\"https://colab.research.google.com/github/JustineKateAlbero/CPEN-21A-CPE-1-1/blob/main/Final_Exam.ipynb\" target=\"_parent\"><img src=\"https://colab.research.google.com/assets/colab-badge.svg\" alt=\"Open In Colab\"/></a>"
      ]
    },
    {
      "cell_type": "markdown",
      "source": [
        "Final Exam"
      ],
      "metadata": {
        "id": "FkN6Gnlmj-dN"
      }
    },
    {
      "cell_type": "code",
      "source": [
        "#Problem Statement 1\n",
        "#Create a Python program that will produce an output of sum of 10 numbers less than 5 using FOR LOOP statement (30 points)\n",
        "  \n",
        "sum=0\n",
        "for num in range(-5,5):\n",
        "  sum = sum + num\n",
        "print(\"List of 10 numbers:\", list(range(-5,5)))\n",
        "print(\"The sum of ten numbers less than five is\" , sum,'.')"
      ],
      "metadata": {
        "colab": {
          "base_uri": "https://localhost:8080/"
        },
        "id": "smUslpeDkBdN",
        "outputId": "a93bfbee-735c-4b6e-fd55-6e8c801755b9"
      },
      "execution_count": 7,
      "outputs": [
        {
          "output_type": "stream",
          "name": "stdout",
          "text": [
            "List of 10 numbers: [-5, -4, -3, -2, -1, 0, 1, 2, 3, 4]\n",
            "The sum of ten numbers less than five is -5 .\n"
          ]
        }
      ]
    },
    {
      "cell_type": "code",
      "source": [
        "#Problem Statement 2\n",
        "#Create a Python program that will produce accept five numbers and determine the sum  of first and last number among the five numbers entered using WHILE loop (35 points)\n",
        "\n",
        "\n",
        "list1=[]\n",
        "while len(list1) <5:\n",
        "  user_input = int(input(\"Enter the number:\"))\n",
        "  list1.append(user_input)\n",
        "\n",
        "print(\"List 1:\", list1)\n",
        "print(list1[0] + list1[-1])"
      ],
      "metadata": {
        "colab": {
          "base_uri": "https://localhost:8080/"
        },
        "id": "YGxz1SrHkdZ4",
        "outputId": "8b69d26d-2334-4cda-95ec-743acec9a4df"
      },
      "execution_count": 9,
      "outputs": [
        {
          "output_type": "stream",
          "name": "stdout",
          "text": [
            "Enter the number:12\n",
            "Enter the number:13\n",
            "Enter the number:14\n",
            "Enter the number:15\n",
            "Enter the number:16\n",
            "List 1: [12, 13, 14, 15, 16]\n",
            "28\n"
          ]
        }
      ]
    },
    {
      "cell_type": "code",
      "source": [
        "#Problem Statement 3\n",
        "#Create a Python program to calculate student grades. It accepts a numerical grade as input and it will display the character grade as output based on the given scale: (Use Nested-IF-Else statement) (35 points)  \n",
        "\n",
        "grade = int(input(\"Enter your grade:\"))\n",
        "if grade >=0 and grade <=100:\n",
        "  if grade >90:\n",
        "    print(\"A\") \n",
        "  elif grade in range (80,90):\n",
        "    print(\"B\")\n",
        "  elif grade in range (70,80):\n",
        "    print(\"C\")\n",
        "  elif grade in range (60,70):\n",
        "    print(\"D\")\n",
        "  elif grade <60:\n",
        "    print(\"F\")\n",
        "else:\n",
        "  print(\"Invalid entry!\")"
      ],
      "metadata": {
        "colab": {
          "base_uri": "https://localhost:8080/"
        },
        "id": "BT8Et7Takfex",
        "outputId": "78f50954-dd8d-4df7-c3fa-f566161a3b99"
      },
      "execution_count": 3,
      "outputs": [
        {
          "output_type": "stream",
          "name": "stdout",
          "text": [
            "Enter your grade:100\n",
            "A\n"
          ]
        }
      ]
    }
  ]
}