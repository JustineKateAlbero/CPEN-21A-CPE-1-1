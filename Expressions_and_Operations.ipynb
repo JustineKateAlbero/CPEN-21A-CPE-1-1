{
  "nbformat": 4,
  "nbformat_minor": 0,
  "metadata": {
    "colab": {
      "name": "Expressions and Operations",
      "provenance": [],
      "authorship_tag": "ABX9TyNgEncJiPXGbLy8nxLQgwfk",
      "include_colab_link": true
    },
    "kernelspec": {
      "name": "python3",
      "display_name": "Python 3"
    },
    "language_info": {
      "name": "python"
    }
  },
  "cells": [
    {
      "cell_type": "markdown",
      "metadata": {
        "id": "view-in-github",
        "colab_type": "text"
      },
      "source": [
        "<a href=\"https://colab.research.google.com/github/JustineKateAlbero/CPEN-21A-CPE-1-1/blob/main/Expressions_and_Operations.ipynb\" target=\"_parent\"><img src=\"https://colab.research.google.com/assets/colab-badge.svg\" alt=\"Open In Colab\"/></a>"
      ]
    },
    {
      "cell_type": "markdown",
      "metadata": {
        "id": "HDxc0_iqf7pD"
      },
      "source": [
        "##Boolean Operators\n",
        "###Booleans represent one of two values: True or False"
      ]
    },
    {
      "cell_type": "code",
      "metadata": {
        "colab": {
          "base_uri": "https://localhost:8080/"
        },
        "id": "D9H3i4VsgHVp",
        "outputId": "80d20878-931d-48f8-8411-8530e7fa45fc"
      },
      "source": [
        "print(10>9)\n",
        "print(10<9)\n",
        "print(10==9)\n",
        "print(10!=9)"
      ],
      "execution_count": 24,
      "outputs": [
        {
          "output_type": "stream",
          "name": "stdout",
          "text": [
            "True\n",
            "False\n",
            "False\n",
            "True\n"
          ]
        }
      ]
    },
    {
      "cell_type": "code",
      "metadata": {
        "colab": {
          "base_uri": "https://localhost:8080/"
        },
        "id": "cgOgQsohgn6l",
        "outputId": "bbd883d2-248a-41d7-ce16-0a5750a62e78"
      },
      "source": [
        "print(bool(True))\n",
        "print(bool(False))\n",
        "print(bool(1))\n",
        "print(bool(0))\n",
        "print(bool([]))\n",
        "print(bool(None))\n",
        "\n",
        "print(bool(\"Hello\"))\n",
        "print(bool(15))"
      ],
      "execution_count": 25,
      "outputs": [
        {
          "output_type": "stream",
          "name": "stdout",
          "text": [
            "True\n",
            "False\n",
            "True\n",
            "False\n",
            "False\n",
            "False\n",
            "True\n",
            "True\n"
          ]
        }
      ]
    },
    {
      "cell_type": "code",
      "metadata": {
        "colab": {
          "base_uri": "https://localhost:8080/"
        },
        "id": "xK9sHnaIhq6B",
        "outputId": "aaa8df63-d246-46a7-8763-b6650959affd"
      },
      "source": [
        "def myFunction():return True      #Functions can return Boolean\n",
        "print(myFunction())\n",
        "def myFunction():return False\n",
        "print(myFunction())"
      ],
      "execution_count": 26,
      "outputs": [
        {
          "output_type": "stream",
          "name": "stdout",
          "text": [
            "True\n",
            "False\n"
          ]
        }
      ]
    },
    {
      "cell_type": "code",
      "metadata": {
        "colab": {
          "base_uri": "https://localhost:8080/"
        },
        "id": "L78rVsjAiCAT",
        "outputId": "700526e2-abc1-4318-f97e-c2f397a83029"
      },
      "source": [
        "#Boolean answer of a function\n",
        "def myFunction():return True\n",
        "if myFunction():\n",
        "  print(\"Yes!\")\n",
        "else:\n",
        "  print(\"No!\")\n",
        "\n",
        "def myFunction():return False\n",
        "if myFunction():\n",
        "  print(\"Yes!\")\n",
        "else:\n",
        "  print(\"No!\")"
      ],
      "execution_count": 27,
      "outputs": [
        {
          "output_type": "stream",
          "name": "stdout",
          "text": [
            "Yes!\n",
            "No!\n"
          ]
        }
      ]
    },
    {
      "cell_type": "code",
      "metadata": {
        "colab": {
          "base_uri": "https://localhost:8080/"
        },
        "id": "GG5Rrxdgiov6",
        "outputId": "b3e8e3f8-55fd-4b1a-8049-79cedcf20475"
      },
      "source": [
        "a = 6\n",
        "b = 7\n",
        "print(a==b)\n",
        "print(a!=a)\n",
        "print(a>b)\n",
        "print(a<b)"
      ],
      "execution_count": 32,
      "outputs": [
        {
          "output_type": "stream",
          "name": "stdout",
          "text": [
            "False\n",
            "False\n",
            "False\n",
            "True\n"
          ]
        }
      ]
    },
    {
      "cell_type": "markdown",
      "metadata": {
        "id": "ijVsdrCtj0bb"
      },
      "source": [
        "###Python Operators"
      ]
    },
    {
      "cell_type": "code",
      "metadata": {
        "colab": {
          "base_uri": "https://localhost:8080/"
        },
        "id": "5qC30aNPj3KD",
        "outputId": "f1974835-ad13-4581-a9a1-ee9891e8de74"
      },
      "source": [
        "print(10+5)\n",
        "print(5-10)\n",
        "print(10-5)\n",
        "print(10*5)\n",
        "print(10/5)  #quotient\n",
        "print(10//5) #floor division: operation showing integer only (whole numbers only)\n",
        "print(7//6)  #floor division\n",
        "print(10%3)  #modulo: operation showing the decimal only\n",
        "print(10**2) #concatenation"
      ],
      "execution_count": 45,
      "outputs": [
        {
          "output_type": "stream",
          "name": "stdout",
          "text": [
            "15\n",
            "-5\n",
            "5\n",
            "50\n",
            "2.0\n",
            "2\n",
            "1\n",
            "1\n",
            "100\n"
          ]
        }
      ]
    },
    {
      "cell_type": "code",
      "metadata": {
        "colab": {
          "base_uri": "https://localhost:8080/"
        },
        "id": "dykx6DCPk5gK",
        "outputId": "6ff5e390-78c7-47c7-c33b-cd72ae1ce0a6"
      },
      "source": [
        "#Python Bitwise Operators\n",
        "\n",
        "a=60    #0011 1100 , shift to the left, 0110 1000, 1111 0000\n",
        "b=13    \n",
        "print(a&b) #and\n",
        "print(a|b) #or\n",
        "print(a^b)\n",
        "print(a<<1)\n",
        "print(a<<2)\n",
        "print(a>>1) #0011 1100 shift to the right, 0001 1110\n",
        "print(a>>2)"
      ],
      "execution_count": 60,
      "outputs": [
        {
          "output_type": "stream",
          "name": "stdout",
          "text": [
            "12\n",
            "61\n",
            "49\n",
            "120\n",
            "240\n",
            "30\n",
            "15\n"
          ]
        }
      ]
    },
    {
      "cell_type": "code",
      "metadata": {
        "colab": {
          "base_uri": "https://localhost:8080/"
        },
        "id": "jI4CevGqr8Av",
        "outputId": "22acd327-e7aa-4049-b4fa-99db14544806"
      },
      "source": [
        "#Python Assignment Operators\n",
        "a+=2 #same as a = a + 2, a=60 +2, a=62\n",
        "print(a)"
      ],
      "execution_count": 88,
      "outputs": [
        {
          "output_type": "stream",
          "name": "stdout",
          "text": [
            "62\n"
          ]
        }
      ]
    },
    {
      "cell_type": "markdown",
      "metadata": {
        "id": "_fe0Wsrvqn-f"
      },
      "source": [
        "###Logical Operators"
      ]
    },
    {
      "cell_type": "code",
      "metadata": {
        "colab": {
          "base_uri": "https://localhost:8080/"
        },
        "id": "h46HZfBhr1kp",
        "outputId": "a9cc98b9-0075-41db-f1ae-1ddad7790004"
      },
      "source": [
        "a=True\n",
        "b=True\n",
        "print(a and b)\n",
        "print(a or b)\n",
        "\n",
        "a=True\n",
        "b=False\n",
        "print(a and b)\n",
        "print(a or b)"
      ],
      "execution_count": 78,
      "outputs": [
        {
          "output_type": "stream",
          "name": "stdout",
          "text": [
            "True\n",
            "True\n",
            "False\n",
            "True\n"
          ]
        }
      ]
    },
    {
      "cell_type": "code",
      "metadata": {
        "colab": {
          "base_uri": "https://localhost:8080/"
        },
        "id": "Olt7VCjNsPdb",
        "outputId": "b2d7a4bc-f7d0-4731-f899-30edefd9916d"
      },
      "source": [
        "a=60\n",
        "b=13\n",
        "\n",
        "print((a>b) and (a<b))\n",
        "print((a>b) or (a<b))\n",
        "print(a>b)\n",
        "print(not(a>b))"
      ],
      "execution_count": 87,
      "outputs": [
        {
          "output_type": "stream",
          "name": "stdout",
          "text": [
            "False\n",
            "True\n",
            "True\n",
            "False\n"
          ]
        }
      ]
    },
    {
      "cell_type": "code",
      "metadata": {
        "colab": {
          "base_uri": "https://localhost:8080/"
        },
        "id": "LqhhcfdQsuT3",
        "outputId": "603fed63-9351-4882-ec02-1ca966434ed1"
      },
      "source": [
        "print(a is b)\n",
        "print(a is not b)"
      ],
      "execution_count": 93,
      "outputs": [
        {
          "output_type": "stream",
          "name": "stdout",
          "text": [
            "True\n",
            "False\n"
          ]
        }
      ]
    },
    {
      "cell_type": "code",
      "metadata": {
        "colab": {
          "base_uri": "https://localhost:8080/"
        },
        "id": "yf7oNN2xs4_j",
        "outputId": "35ceaba7-6998-40ee-e1a9-e833bbefa9ad"
      },
      "source": [
        "a=60\n",
        "b=60\n",
        "\n",
        "print((a>b) and (a<b))\n",
        "print((a>b) or (a<b))\n",
        "print(a>b)\n",
        "print(not(a>b))"
      ],
      "execution_count": 91,
      "outputs": [
        {
          "output_type": "stream",
          "name": "stdout",
          "text": [
            "False\n",
            "False\n",
            "False\n",
            "True\n"
          ]
        }
      ]
    },
    {
      "cell_type": "code",
      "metadata": {
        "colab": {
          "base_uri": "https://localhost:8080/"
        },
        "id": "gBEQOQCws6Ir",
        "outputId": "e74fef26-442d-4713-c1a1-eac5c3c6ee8a"
      },
      "source": [
        "print(a is b)\n",
        "print(a is not b)"
      ],
      "execution_count": 94,
      "outputs": [
        {
          "output_type": "stream",
          "name": "stdout",
          "text": [
            "True\n",
            "False\n"
          ]
        }
      ]
    }
  ]
}