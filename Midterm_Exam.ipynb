{
  "nbformat": 4,
  "nbformat_minor": 0,
  "metadata": {
    "colab": {
      "name": "Midterm Exam",
      "provenance": [],
      "authorship_tag": "ABX9TyPHucBGNhtxsPB2XHgzCQxg",
      "include_colab_link": true
    },
    "kernelspec": {
      "name": "python3",
      "display_name": "Python 3"
    },
    "language_info": {
      "name": "python"
    }
  },
  "cells": [
    {
      "cell_type": "markdown",
      "metadata": {
        "id": "view-in-github",
        "colab_type": "text"
      },
      "source": [
        "<a href=\"https://colab.research.google.com/github/JustineKateAlbero/CPEN-21A-CPE-1-1/blob/main/Midterm_Exam.ipynb\" target=\"_parent\"><img src=\"https://colab.research.google.com/assets/colab-badge.svg\" alt=\"Open In Colab\"/></a>"
      ]
    },
    {
      "cell_type": "markdown",
      "metadata": {
        "id": "ytEfvPmHkCy2"
      },
      "source": [
        "#Midterm Exam"
      ]
    },
    {
      "cell_type": "code",
      "metadata": {
        "colab": {
          "base_uri": "https://localhost:8080/"
        },
        "id": "bDEVGRXmkEXx",
        "outputId": "032faed8-b3f1-46f0-ec4f-20203dceaf3a"
      },
      "source": [
        "#PROBLEM STATEMENT 1\n",
        "Full_name =\"Justine Kate Palen Albero\"\n",
        "Student_number = \"202101555\"\n",
        "Age= \"19 years old\"\n",
        "Birthday= \"October 05, 2002\"\n",
        "Address= \"B144 L17 Sunshine Ville, Brgy. Cabuco, Trece Martires City, Cavite\"\n",
        "Course= \"Bachelor of Science in Computer Engineering\"\n",
        "Last_Sem_GWA = \"98\"\n",
        "\n",
        "print(\"Full Name:\" + \" \" + Full_name)\n",
        "print(\"Student Number:\" + \" \" + Student_number)\n",
        "print(\"Age:\" + \" \" + Age)\n",
        "print(\"Birthday:\" + \" \" + Birthday)\n",
        "print(\"Address:\" + \" \" + Address)\n",
        "print(\"Course:\" + \" \" + Course)\n",
        "print(\"Last Sem GWA:\" + \" \" + Last_Sem_GWA)\n"
      ],
      "execution_count": 6,
      "outputs": [
        {
          "output_type": "stream",
          "name": "stdout",
          "text": [
            "Full Name: Justine Kate Palen Albero\n",
            "Student Number: 202101555\n",
            "Age: 19 years old\n",
            "Birthday: October 05, 2002\n",
            "Address: B144 L17 Sunshine Ville, Brgy. Cabuco, Trece Martires City, Cavite\n",
            "Course: Bachelor of Science in Computer Engineering\n",
            "Last Sem GWA: 98\n"
          ]
        }
      ]
    },
    {
      "cell_type": "code",
      "metadata": {
        "colab": {
          "base_uri": "https://localhost:8080/"
        },
        "id": "_iH5JKVmlAZE",
        "outputId": "0715d85e-3f7e-43be-c7ef-19ca10739aa9"
      },
      "source": [
        "#PROBLEM STATEMENT 2\n",
        "n=4\n",
        "answ=\"Y\" \n",
        "\n",
        "print((2<n) and (n<6))\n",
        "print((2<n) or (n==6))\n",
        "print(not(2<n) or (n==6))\n",
        "print(not(n<6))\n",
        "print((answ==\"Y\") or (answ==\"y\"))\n",
        "print((answ==\"Y\") and (answ==\"y\"))\n",
        "print(not(answ==\"y\"))\n",
        "print(((2<n) and (n==5+1)) or (answ==\"No\"))\n",
        "print(((n==2) and (n==7)) or (answ==\"Y\"))\n",
        "print((n==2) and ((n==7) or (answ==\"Y\")))"
      ],
      "execution_count": 22,
      "outputs": [
        {
          "output_type": "stream",
          "name": "stdout",
          "text": [
            "True\n",
            "True\n",
            "False\n",
            "False\n",
            "True\n",
            "False\n",
            "True\n",
            "False\n",
            "True\n",
            "False\n"
          ]
        }
      ]
    },
    {
      "cell_type": "code",
      "metadata": {
        "colab": {
          "base_uri": "https://localhost:8080/"
        },
        "id": "_pV5HZiolYtT",
        "outputId": "181ce513-a8be-43c6-ee2d-e1e483fa085b"
      },
      "source": [
        "#PROBLEM STATEMENT 3\n",
        "x= 2\n",
        "y= -3\n",
        "w= 7\n",
        "z= -10\n",
        "\n",
        "print(x/y)\n",
        "print(w/y/x)\n",
        "print(z/y%x)\n",
        "print(x%-y*w)\n",
        "print(x%y)\n",
        "print(z%w-y/x*5+5)\n",
        "print(9-x%(2+y))\n",
        "print(z//w)\n",
        "print((2+y)**2)\n",
        "print(w/x*2)"
      ],
      "execution_count": 35,
      "outputs": [
        {
          "output_type": "stream",
          "name": "stdout",
          "text": [
            "-0.6666666666666666\n",
            "-1.1666666666666667\n",
            "1.3333333333333335\n",
            "14\n",
            "-1\n",
            "16.5\n",
            "9\n",
            "-2\n",
            "1\n",
            "7.0\n"
          ]
        }
      ]
    }
  ]
}